{
 "cells": [
  {
   "cell_type": "code",
   "execution_count": null,
   "id": "29766e25-d7ed-4d18-a11b-df5e4aec21cc",
   "metadata": {},
   "outputs": [],
   "source": [
    "#his notebook will be mainly used for the capstone project.\n",
    "Import the pandas library as pd\n",
    "Import the Numpy library as np\n",
    "print(\"Hello Capstone Project Course!\")"
   ]
  }
 ],
 "metadata": {
  "kernelspec": {
   "display_name": "Python",
   "language": "python",
   "name": "conda-env-python-py"
  },
  "language_info": {
   "codemirror_mode": {
    "name": "ipython",
    "version": 3
   },
   "file_extension": ".py",
   "mimetype": "text/x-python",
   "name": "python",
   "nbconvert_exporter": "python",
   "pygments_lexer": "ipython3",
   "version": "3.6.13"
  }
 },
 "nbformat": 4,
 "nbformat_minor": 5
}
